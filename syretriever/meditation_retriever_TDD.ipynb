{
 "cells": [
  {
   "cell_type": "markdown",
   "id": "43d8c15d",
   "metadata": {
    "jp-MarkdownHeadingCollapsed": true
   },
   "source": [
    "# Wrangling"
   ]
  },
  {
   "cell_type": "code",
   "execution_count": 31,
   "metadata": {},
   "outputs": [
    {
     "data": {
      "text/plain": [
       "[Document(page_content=': 0\\nMeditation Title: Feel balanced\\nTags: tired, bored, stressed, overwhelmed, demotivated, overactive, balanced, excited, anxious\\nDescription: This is a balancing meditation, meant to bring someone into a state of balance and help with feeling any kind of distress and imbalance.', metadata={'source': 'Feel balanced', 'row': 0, 'link': 'https://media.sydevelopers.com/meditations/15/edit'}),\n",
       " Document(page_content=': 1\\nMeditation Title: Re-kindle inner joy, evening\\nTags: sad, evening\\nDescription: This is an evening meditation for someone who is generally feeling down and sad emotionally. It is meant to bring a sense of relief and joy inside, and chase away any negative and depressive thoughts.', metadata={'source': 'Re-kindle inner joy, evening', 'row': 1, 'link': 'https://media.sydevelopers.com/meditations/66/edit'}),\n",
       " Document(page_content=': 2\\nMeditation Title: Morning meditation\\nTags: general, happy, relaxed, content, morning, morning-general\\nDescription: This morning meditation is for someone who is generally feeling pretty good and positive.', metadata={'source': 'Morning meditation', 'row': 2, 'link': 'https://media.sydevelopers.com/meditations/70/edit'}),\n",
       " Document(page_content=': 3\\nMeditation Title: Letting go of negativity\\nTags: sad, anxious, afternoon, angry\\nDescription: This meditation is for someone who is experiencing negative, angry and anxious thoughts.', metadata={'source': 'Letting go of negativity', 'row': 3, 'link': 'https://media.sydevelopers.com/meditations/68/edit'}),\n",
       " Document(page_content=': 4\\nMeditation Title: Getting back to your center\\nTags: general, happy, relaxed, content, afternoon-general, afternoon\\nDescription: This meditation is for someone who is feeling positive and fine, happy and relaxed, but they might want to get back in touch with their inner self and feel more centered.', metadata={'source': 'Getting back to your center', 'row': 4, 'link': 'https://media.sydevelopers.com/meditations/69/edit'}),\n",
       " Document(page_content=': 5\\nMeditation Title: Reconnecting with your true Self\\nTags: evening, happy, relaxed, content, evening-general\\nDescription: This evening meditation is for someone who is generally fiining good, but they might want to recalibrate themselves and feel more centered and balanced.', metadata={'source': 'Reconnecting with your true Self', 'row': 5, 'link': 'https://media.sydevelopers.com/meditations/67/edit'}),\n",
       " Document(page_content=': 6\\nMeditation Title: Love yourself\\nTags: love, esteem, sad, lonely\\nDescription: This is for someone who is lacking self-esteem and is not feeling good about themselves. It will help users feel more love and forgiveness towards themselves.', metadata={'source': 'Love yourself', 'row': 6, 'link': 'https://media.sydevelopers.com/meditations/46/edit'}),\n",
       " Document(page_content=': 7\\nMeditation Title: Feel the silence within\\nTags: tired, stressed, overwhelmed, overactive, excited, silence, anxious, angry\\nDescription: This is for users who are tired, stressed, overwhelmed, overactive, excited, anxious, angry or similar. It will help experience inner silence and balance', metadata={'source': 'Feel the silence within', 'row': 7, 'link': 'https://media.sydevelopers.com/meditations/51/edit'}),\n",
       " Document(page_content=': 8\\nMeditation Title: Be focused\\nTags: focus\\nDescription: This is for users who are finding it hard to concentrate and focus, whose attention is scattered.', metadata={'source': 'Be focused', 'row': 8, 'link': 'https://media.sydevelopers.com/meditations/30/edit'}),\n",
       " Document(page_content=': 9\\nMeditation Title: Be creative\\nTags: creative\\nDescription: This is for users who want to nourish their inner creativity, be more spontaneous and feel more inspired', metadata={'source': 'Be creative', 'row': 9, 'link': 'https://media.sydevelopers.com/meditations/24/edit'})]"
      ]
     },
     "execution_count": 31,
     "metadata": {},
     "output_type": "execute_result"
    }
   ],
   "source": [
    "import pandas as pd\n",
    "from langchain.document_loaders.csv_loader import CSVLoader\n",
    "\n",
    "# Trying without the transcrits\n",
    "meditation_df = pd.read_csv('meditation_descriptions.csv')\n",
    "meditation_df.rename(columns={'Link on server': 'link'}, inplace=True)\n",
    "meditation_df.drop(columns=['Transcrit']).to_csv('meditation_descriptions_modified.csv')\n",
    "meditation_df\n",
    "\n",
    "\n",
    "loader = CSVLoader(file_path='meditation_descriptions_modified.csv', source_column='Meditation Title', metadata_columns=['link'])\n",
    "data = loader.load()\n",
    "data"
   ]
  },
  {
   "cell_type": "code",
   "execution_count": 47,
   "metadata": {},
   "outputs": [],
   "source": [
    "import pandas as pd\n",
    "from langchain.document_loaders.csv_loader import CSVLoader\n",
    "from langchain.vectorstores.faiss import FAISS\n",
    "from langchain.embeddings.openai import OpenAIEmbeddings\n",
    "\n",
    "loader = CSVLoader(file_path='meditation_descriptions_scrapped.csv', metadata_columns=['index', 'data_url'])\n",
    "data = loader.load()\n",
    "\n",
    "embeddings = OpenAIEmbeddings()\n",
    "\n",
    "db = FAISS.from_documents(data, embedding=embeddings)\n",
    "db.save_local('/home/llohann/wemeditate/syretriever/meditations_new_index')"
   ]
  },
  {
   "cell_type": "code",
   "execution_count": 48,
   "metadata": {},
   "outputs": [
    {
     "data": {
      "text/plain": [
       "{'_dict': {'c4713308-589b-4482-9ff2-3b4652eab83d': Document(page_content='title: Get your focus\\ntags: afternoon, focus', metadata={'source': 'meditation_descriptions_scrapped.csv', 'row': 0, 'index': '1', 'data_url': 'https://media.sydevelopers.com/meditations/bb6e9d2487.json'}),\n",
       "  'e11fb28e-d1aa-40ae-a520-11871de86f72': Document(page_content='title: Om Meditation\\ntags: morning, musical', metadata={'source': 'meditation_descriptions_scrapped.csv', 'row': 1, 'index': '2', 'data_url': 'https://media.sydevelopers.com/meditations/c5b64a133a.json'}),\n",
       "  'bf95511f-5c04-4eca-9844-002fcb4c3830': Document(page_content='title: Meditation on your breath\\ntags: afternoon', metadata={'source': 'meditation_descriptions_scrapped.csv', 'row': 2, 'index': '3', 'data_url': 'https://media.sydevelopers.com/meditations/859dae1e2f.json'}),\n",
       "  '7958ec0f-2148-4145-b982-3d8e8a614478': Document(page_content='title: Ground yourself\\ntags: evening', metadata={'source': 'meditation_descriptions_scrapped.csv', 'row': 3, 'index': '4', 'data_url': 'https://media.sydevelopers.com/meditations/ad46db2a7f.json'}),\n",
       "  '6857236b-d763-4a54-a5f1-643ca79d8e7e': Document(page_content='title: Pure awareness\\ntags: morning', metadata={'source': 'meditation_descriptions_scrapped.csv', 'row': 4, 'index': '5', 'data_url': 'https://media.sydevelopers.com/meditations/da978877d1.json'}),\n",
       "  'c88eca14-3e28-46e5-9b4d-fef6689a6309': Document(page_content='title: Morning awareness\\ntags: morning', metadata={'source': 'meditation_descriptions_scrapped.csv', 'row': 5, 'index': '6', 'data_url': 'https://media.sydevelopers.com/meditations/3e0280c7d1.json'}),\n",
       "  '45541301-b6f8-4c5a-836d-006bcfa6ce2d': Document(page_content='title: Regenerate yourself\\ntags: morning', metadata={'source': 'meditation_descriptions_scrapped.csv', 'row': 6, 'index': '7', 'data_url': 'https://media.sydevelopers.com/meditations/5000e56a4a.json'}),\n",
       "  '126825a0-91de-4b80-9319-bc7e75241dd5': Document(page_content='title: Bring peace within\\ntags: morning, peace', metadata={'source': 'meditation_descriptions_scrapped.csv', 'row': 7, 'index': '8', 'data_url': 'https://media.sydevelopers.com/meditations/58d366396f.json'}),\n",
       "  'efc58583-9e6c-4dc2-b965-8f9fefe4a0b7': Document(page_content='title: Wind down your day\\ntags: calm, evening', metadata={'source': 'meditation_descriptions_scrapped.csv', 'row': 8, 'index': '9', 'data_url': 'https://media.sydevelopers.com/meditations/7c9c39fb96.json'}),\n",
       "  '80e74608-f20c-4251-bf0e-eb7d6d2dc49e': Document(page_content='title: Silence within\\ntags: calm, evening', metadata={'source': 'meditation_descriptions_scrapped.csv', 'row': 9, 'index': '10', 'data_url': 'https://media.sydevelopers.com/meditations/a8beeffad1.json'}),\n",
       "  'c6f8f2b8-fa39-4620-80e4-4ac6c5da3125': Document(page_content='title: Focus with bija mantras\\ntags: evening, focus, musical', metadata={'source': 'meditation_descriptions_scrapped.csv', 'row': 10, 'index': '11', 'data_url': 'https://media.sydevelopers.com/meditations/263e42496e.json'}),\n",
       "  '72caa322-dc89-4399-bf65-7980f71eff8f': Document(page_content='title: Awaken your inner energy\\ntags: realisation', metadata={'source': 'meditation_descriptions_scrapped.csv', 'row': 11, 'index': '12', 'data_url': 'https://media.sydevelopers.com/meditations/fea03c21b1.json'}),\n",
       "  '2038b19f-ec21-403a-ae40-222c00c116cb': Document(page_content='title: Feel balanced\\ntags: balanced', metadata={'source': 'meditation_descriptions_scrapped.csv', 'row': 12, 'index': '13', 'data_url': 'https://media.sydevelopers.com/meditations/a34d8ecaba.json'}),\n",
       "  '2220e584-b8f8-4e4b-b488-27f87d320aac': Document(page_content='title: Feel balanced\\ntags: balanced', metadata={'source': 'meditation_descriptions_scrapped.csv', 'row': 13, 'index': '14', 'data_url': 'https://media.sydevelopers.com/meditations/39166e8b0b.json'}),\n",
       "  '68562e4a-6c74-4cf6-a6fd-27c4e9e2763b': Document(page_content='title: Feel balanced\\ntags: tired, bored, stressed, overwhelmed, demotivated, overactive, balanced, excited, anxious', metadata={'source': 'meditation_descriptions_scrapped.csv', 'row': 14, 'index': '15', 'data_url': 'https://media.sydevelopers.com/meditations/9894639912.json'}),\n",
       "  'b6cc3b07-9cbb-4d3b-904b-6ac7364e76d0': Document(page_content='title: Step 5: All pervading power\\ntags: path', metadata={'source': 'meditation_descriptions_scrapped.csv', 'row': 15, 'index': '16', 'data_url': 'https://media.sydevelopers.com/meditations/7adbf05e6d.json'}),\n",
       "  'b28ab5bc-d30a-424d-a227-a3740baeb854': Document(page_content='title: Feel calm\\ntags: calm', metadata={'source': 'meditation_descriptions_scrapped.csv', 'row': 16, 'index': '17', 'data_url': 'https://media.sydevelopers.com/meditations/1f582ee49d.json'}),\n",
       "  '2f014de9-146b-4e5f-bc14-8c1ee01394ef': Document(page_content='title: Feel calm\\ntags: calm', metadata={'source': 'meditation_descriptions_scrapped.csv', 'row': 17, 'index': '18', 'data_url': 'https://media.sydevelopers.com/meditations/b5387edb33.json'}),\n",
       "  '6492838b-24b1-4b71-8068-626ad1156fec': Document(page_content='title: Feel inner calm\\ntags: calm, overactive, anxious, excited, overwhelmed, stressed', metadata={'source': 'meditation_descriptions_scrapped.csv', 'row': 18, 'index': '19', 'data_url': 'https://media.sydevelopers.com/meditations/0f4159576b.json'}),\n",
       "  '4fe61032-237c-42fd-a28b-c42c432c9f66': Document(page_content='title: Love yourself and be confident\\ntags: esteem, lonely, confidence', metadata={'source': 'meditation_descriptions_scrapped.csv', 'row': 19, 'index': '20', 'data_url': 'https://media.sydevelopers.com/meditations/190ef5a8d4.json'}),\n",
       "  'c3e98022-3f8f-403c-9902-6baa94dfea8d': Document(page_content='title: Love yourself and be confident\\ntags: esteem, lonely, confidence', metadata={'source': 'meditation_descriptions_scrapped.csv', 'row': 20, 'index': '21', 'data_url': 'https://media.sydevelopers.com/meditations/2973197b4b.json'}),\n",
       "  '5abbde0a-67ae-40b2-8545-c92f87d52dde': Document(page_content='title: Love yourself and be confident\\ntags: esteem, lonely, confidence', metadata={'source': 'meditation_descriptions_scrapped.csv', 'row': 21, 'index': '22', 'data_url': 'https://media.sydevelopers.com/meditations/ceeb9da074.json'}),\n",
       "  '701c370c-0542-4e24-8af8-cee74d17140a': Document(page_content='title: Be creative\\ntags: creative', metadata={'source': 'meditation_descriptions_scrapped.csv', 'row': 22, 'index': '23', 'data_url': 'https://media.sydevelopers.com/meditations/42e641fb66.json'}),\n",
       "  '5b0c6707-d031-4a89-b07f-0b1eb9646d59': Document(page_content='title: Be creative\\ntags: creative', metadata={'source': 'meditation_descriptions_scrapped.csv', 'row': 23, 'index': '24', 'data_url': 'https://media.sydevelopers.com/meditations/5c02f48cc8.json'}),\n",
       "  '8b7d7624-87f5-4b22-b0cc-e81fecb99032': Document(page_content='title: Be creative\\ntags: creative', metadata={'source': 'meditation_descriptions_scrapped.csv', 'row': 24, 'index': '25', 'data_url': 'https://media.sydevelopers.com/meditations/76fb9a211e.json'}),\n",
       "  'c9a4c7a7-5fc9-4050-af4f-31ae6405b023': Document(page_content='title: Feel self-esteem\\ntags: esteem', metadata={'source': 'meditation_descriptions_scrapped.csv', 'row': 25, 'index': '26', 'data_url': 'https://media.sydevelopers.com/meditations/0c10a904a2.json'}),\n",
       "  '5bdc341a-58c2-40e6-895f-0b1f7b972935': Document(page_content='title: Feel self-esteem\\ntags: esteem', metadata={'source': 'meditation_descriptions_scrapped.csv', 'row': 26, 'index': '27', 'data_url': 'https://media.sydevelopers.com/meditations/46167c962e.json'}),\n",
       "  '9d180e63-cdc0-4ac8-bdd4-8f2ffb84576a': Document(page_content='title: Feel self-esteem\\ntags: esteem', metadata={'source': 'meditation_descriptions_scrapped.csv', 'row': 27, 'index': '28', 'data_url': 'https://media.sydevelopers.com/meditations/a661357b2d.json'}),\n",
       "  'da07f262-2ff7-4614-947e-94e50a53f606': Document(page_content='title: Be focused\\ntags: focus', metadata={'source': 'meditation_descriptions_scrapped.csv', 'row': 28, 'index': '29', 'data_url': 'https://media.sydevelopers.com/meditations/16f1ad3a33.json'}),\n",
       "  'a9347d4c-36e9-4738-a9fc-0d69a317d834': Document(page_content='title: Be focused\\ntags: focus', metadata={'source': 'meditation_descriptions_scrapped.csv', 'row': 29, 'index': '30', 'data_url': 'https://media.sydevelopers.com/meditations/be7979f29b.json'}),\n",
       "  'a8ec8445-effb-40eb-91e1-189e0431eadd': Document(page_content='title: Be focused\\ntags: focus', metadata={'source': 'meditation_descriptions_scrapped.csv', 'row': 30, 'index': '31', 'data_url': 'https://media.sydevelopers.com/meditations/ab974e9eca.json'}),\n",
       "  'fba0bcaf-1110-41b6-b587-28339e96019a': Document(page_content='title: Feel fulfilled\\ntags: fulfilled, demotivated, lonely', metadata={'source': 'meditation_descriptions_scrapped.csv', 'row': 31, 'index': '32', 'data_url': 'https://media.sydevelopers.com/meditations/a6016ab9b4.json'}),\n",
       "  '3b512f5e-b3cd-4a4f-928e-25693db794a4': Document(page_content='title: Feel fulfilled\\ntags: fulfilled, demotivated, lonely', metadata={'source': 'meditation_descriptions_scrapped.csv', 'row': 32, 'index': '33', 'data_url': 'https://media.sydevelopers.com/meditations/d1cf8e07be.json'}),\n",
       "  'f6fb8f90-1ce2-4757-8966-d8044a8766b0': Document(page_content='title: Feel fulfilled\\ntags: fulfilled, demotivated, lonely', metadata={'source': 'meditation_descriptions_scrapped.csv', 'row': 33, 'index': '34', 'data_url': 'https://media.sydevelopers.com/meditations/857e23e21d.json'}),\n",
       "  '4e0376b4-5cf1-4b81-b64c-81eb66e4d49b': Document(page_content='title: Feel harmony\\ntags: harmony', metadata={'source': 'meditation_descriptions_scrapped.csv', 'row': 34, 'index': '35', 'data_url': 'https://media.sydevelopers.com/meditations/39d35d8361.json'}),\n",
       "  '35179a68-91ce-4e09-a60a-9bdf0e48c3bd': Document(page_content='title: Feel harmony\\ntags: harmony', metadata={'source': 'meditation_descriptions_scrapped.csv', 'row': 35, 'index': '36', 'data_url': 'https://media.sydevelopers.com/meditations/944250178e.json'}),\n",
       "  'a2958bb9-37b2-42c1-8bce-025c3dad70e7': Document(page_content='title: Feel harmony within\\ntags: tired, stressed, harmony, overwhelmed, overactive, excited, anxious, angry', metadata={'source': 'meditation_descriptions_scrapped.csv', 'row': 36, 'index': '37', 'data_url': 'https://media.sydevelopers.com/meditations/254901bf38.json'}),\n",
       "  '8eeab75c-35f4-4949-b53d-44e8423143bb': Document(page_content='title: Feel humble\\ntags: humble', metadata={'source': 'meditation_descriptions_scrapped.csv', 'row': 37, 'index': '38', 'data_url': 'https://media.sydevelopers.com/meditations/280147b8ec.json'}),\n",
       "  'f774846d-0b9a-4a83-b6ff-3a7eef9ea494': Document(page_content='title: Feel humble\\ntags: humble', metadata={'source': 'meditation_descriptions_scrapped.csv', 'row': 38, 'index': '39', 'data_url': 'https://media.sydevelopers.com/meditations/2614670925.json'}),\n",
       "  '7afc78c0-6190-4274-80d1-988d0a111228': Document(page_content='title: Feel joy\\ntags: joy', metadata={'source': 'meditation_descriptions_scrapped.csv', 'row': 39, 'index': '40', 'data_url': 'https://media.sydevelopers.com/meditations/cfe6e1b90e.json'}),\n",
       "  'e0e92f30-36f3-4de8-a216-4b94ed85ec7a': Document(page_content='title: Letting go\\ntags: stressed, humble, anxious, angry', metadata={'source': 'meditation_descriptions_scrapped.csv', 'row': 40, 'index': '41', 'data_url': 'https://media.sydevelopers.com/meditations/9deb4cb11d.json'}),\n",
       "  '1e1a03e2-a592-4ca6-a528-251d67036c25': Document(page_content='title: Feel joy\\ntags: joy', metadata={'source': 'meditation_descriptions_scrapped.csv', 'row': 41, 'index': '42', 'data_url': 'https://media.sydevelopers.com/meditations/8a01f1c9e5.json'}),\n",
       "  'b4c61e49-b703-49df-828a-d36e4a5013db': Document(page_content='title: Feel inner joy\\ntags: joy, sad, lonely, anxious', metadata={'source': 'meditation_descriptions_scrapped.csv', 'row': 42, 'index': '43', 'data_url': 'https://media.sydevelopers.com/meditations/cfc6b3dc85.json'}),\n",
       "  '0f2a04fe-f522-482e-b454-375733e4fb60': Document(page_content='title: Feel love\\ntags: love', metadata={'source': 'meditation_descriptions_scrapped.csv', 'row': 43, 'index': '44', 'data_url': 'https://media.sydevelopers.com/meditations/c00759684b.json'}),\n",
       "  '4c7d17a0-58d8-46f4-aa4e-a38c11908820': Document(page_content='title: Feel love\\ntags: love', metadata={'source': 'meditation_descriptions_scrapped.csv', 'row': 44, 'index': '45', 'data_url': 'https://media.sydevelopers.com/meditations/07c8b8ac7f.json'}),\n",
       "  'dc5b52ac-4825-4645-976a-3cbd8f759151': Document(page_content='title: Love yourself\\ntags: love, esteem, sad, lonely', metadata={'source': 'meditation_descriptions_scrapped.csv', 'row': 45, 'index': '46', 'data_url': 'https://media.sydevelopers.com/meditations/ebf277388d.json'}),\n",
       "  '07cf5438-37d0-444b-af19-4338a31b861c': Document(page_content='title: Feel satisfied\\ntags: satisfied', metadata={'source': 'meditation_descriptions_scrapped.csv', 'row': 46, 'index': '47', 'data_url': 'https://media.sydevelopers.com/meditations/9d691e7932.json'}),\n",
       "  '29e331de-caae-4087-858d-cb8649ddf49f': Document(page_content='title: Feeling satisfied\\ntags: bored, satisfied', metadata={'source': 'meditation_descriptions_scrapped.csv', 'row': 47, 'index': '48', 'data_url': 'https://media.sydevelopers.com/meditations/43df44bf8c.json'}),\n",
       "  '95890737-1ad9-4c95-9853-aa58f791cca3': Document(page_content='title: Feel silence\\ntags: silence', metadata={'source': 'meditation_descriptions_scrapped.csv', 'row': 48, 'index': '49', 'data_url': 'https://media.sydevelopers.com/meditations/b73799d7d3.json'}),\n",
       "  '0ca1284a-6eba-4e66-81dd-372e9d7bbb9e': Document(page_content='title: Feel silence\\ntags: silence', metadata={'source': 'meditation_descriptions_scrapped.csv', 'row': 49, 'index': '50', 'data_url': 'https://media.sydevelopers.com/meditations/9bf3461d48.json'}),\n",
       "  '23268307-d589-4066-8485-3568e674b32c': Document(page_content='title: Feel the silence within\\ntags: tired, stressed, overwhelmed, overactive, excited, silence, anxious, angry', metadata={'source': 'meditation_descriptions_scrapped.csv', 'row': 50, 'index': '51', 'data_url': 'https://media.sydevelopers.com/meditations/a3337fbf59.json'}),\n",
       "  'fd091354-14ab-436a-81b5-bb2c76c7012c': Document(page_content='title: Step 9: The Power of Attention\\ntags: path', metadata={'source': 'meditation_descriptions_scrapped.csv', 'row': 51, 'index': '52', 'data_url': 'https://media.sydevelopers.com/meditations/7aef963787.json'}),\n",
       "  '92427d9b-0340-4ac4-8fac-a19f5bf440ed': Document(page_content='title: Step 14: The power of desire\\ntags: path', metadata={'source': 'meditation_descriptions_scrapped.csv', 'row': 52, 'index': '53', 'data_url': 'https://media.sydevelopers.com/meditations/2ccebe1344.json'}),\n",
       "  '8e7d2ce9-1f1f-4051-a7ca-df9b4158acd0': Document(page_content='title: Step 1: Kundalini\\ntags: path', metadata={'source': 'meditation_descriptions_scrapped.csv', 'row': 53, 'index': '55', 'data_url': 'https://media.sydevelopers.com/meditations/31fbe62cf0.json'}),\n",
       "  'b262c642-c969-43c4-9128-399450f6aeb2': Document(page_content='title: Step 2  - Thoughtless Awareness\\ntags: path', metadata={'source': 'meditation_descriptions_scrapped.csv', 'row': 54, 'index': '56', 'data_url': 'https://media.sydevelopers.com/meditations/069a03dd96.json'}),\n",
       "  'c824c651-45d7-4dcc-9c2d-54584cf57212': Document(page_content='title: Step 3  - Subtle System\\ntags: path', metadata={'source': 'meditation_descriptions_scrapped.csv', 'row': 55, 'index': '57', 'data_url': 'https://media.sydevelopers.com/meditations/cfee96bdda.json'}),\n",
       "  '1e0cd7db-af52-4a52-8ac6-bd0abb38b90d': Document(page_content='title: Step 4 - Vibrations\\ntags: path', metadata={'source': 'meditation_descriptions_scrapped.csv', 'row': 56, 'index': '58', 'data_url': 'https://media.sydevelopers.com/meditations/c4c0e52ef9.json'}),\n",
       "  'bf25869d-906c-4311-9339-0553f5ded086': Document(page_content='title: Step 8: Spirit\\ntags: path', metadata={'source': 'meditation_descriptions_scrapped.csv', 'row': 57, 'index': '59', 'data_url': 'https://media.sydevelopers.com/meditations/6fed1525a7.json'}),\n",
       "  '424b2923-e786-4907-83b0-568951ec3e13': Document(page_content='title: Step 12: Self-mastery\\ntags: path', metadata={'source': 'meditation_descriptions_scrapped.csv', 'row': 58, 'index': '60', 'data_url': 'https://media.sydevelopers.com/meditations/7436cc7578.json'}),\n",
       "  '9aa990b0-819f-441f-92c3-5dd0179ce75d': Document(page_content='title: Step 13: Inner peace\\ntags: path', metadata={'source': 'meditation_descriptions_scrapped.csv', 'row': 59, 'index': '61', 'data_url': 'https://media.sydevelopers.com/meditations/142da9630c.json'}),\n",
       "  '6e3fa618-fdff-4e8d-80dd-88c75878b399': Document(page_content='title: Step 17: Candle treatment\\ntags: path', metadata={'source': 'meditation_descriptions_scrapped.csv', 'row': 60, 'index': '62', 'data_url': 'https://media.sydevelopers.com/meditations/15c1972542.json'}),\n",
       "  'c6857648-af55-4204-9587-0a54d1860e47': Document(page_content='title: First meditation\\ntags: realisation', metadata={'source': 'meditation_descriptions_scrapped.csv', 'row': 61, 'index': '63', 'data_url': 'https://media.sydevelopers.com/meditations/fc3165d2c7.json'}),\n",
       "  '4a7c48f3-71d3-4a44-ba74-be1cc39dba66': Document(page_content='title: Step 13: Inner Peace\\ntags: path', metadata={'source': 'meditation_descriptions_scrapped.csv', 'row': 62, 'index': '64', 'data_url': 'https://media.sydevelopers.com/meditations/219f07c13d.json'}),\n",
       "  '8b012014-8f02-4035-9b0f-f1dc7f6e2025': Document(page_content='title: Step 10: Music to support meditation\\ntags: path', metadata={'source': 'meditation_descriptions_scrapped.csv', 'row': 63, 'index': '65', 'data_url': 'https://media.sydevelopers.com/meditations/b83c8d1d31.json'}),\n",
       "  'bbb56d86-3070-4c8c-9d16-0140d7be2792': Document(page_content='title: Re-kindle inner joy\\ntags: sad, evening', metadata={'source': 'meditation_descriptions_scrapped.csv', 'row': 64, 'index': '66', 'data_url': 'https://media.sydevelopers.com/meditations/8cccd7ccec.json'}),\n",
       "  'f45893af-2c07-4dac-b04d-ca843333dbf6': Document(page_content='title: Reconnecting with your true Self\\ntags: evening, happy, relaxed, content, evening-general', metadata={'source': 'meditation_descriptions_scrapped.csv', 'row': 65, 'index': '67', 'data_url': 'https://media.sydevelopers.com/meditations/c8da67a6ab.json'}),\n",
       "  '1a2b7495-9979-4170-9f80-6bab630d419c': Document(page_content='title: Letting go of negativity\\ntags: sad, anxious, afternoon, angry', metadata={'source': 'meditation_descriptions_scrapped.csv', 'row': 66, 'index': '68', 'data_url': 'https://media.sydevelopers.com/meditations/7393bfa8cc.json'}),\n",
       "  'f0021986-d313-4b67-be1b-f613c9719014': Document(page_content='title: Getting back to your center\\ntags: general, happy, relaxed, content, afternoon-general, afternoon', metadata={'source': 'meditation_descriptions_scrapped.csv', 'row': 67, 'index': '69', 'data_url': 'https://media.sydevelopers.com/meditations/bf55fdefc8.json'}),\n",
       "  '027144e3-f6bb-45d9-b929-2204c302537f': Document(page_content='title: Morning meditation\\ntags: general, happy, relaxed, content, morning, morning-general', metadata={'source': 'meditation_descriptions_scrapped.csv', 'row': 68, 'index': '70', 'data_url': 'https://media.sydevelopers.com/meditations/c798b19f1c.json'}),\n",
       "  '135659b8-5fe9-4ff8-8500-029cf72a497e': Document(page_content='title: Step 11: Integrating meditation into your daily life\\ntags: path', metadata={'source': 'meditation_descriptions_scrapped.csv', 'row': 69, 'index': '71', 'data_url': 'https://media.sydevelopers.com/meditations/d91fb76c1e.json'}),\n",
       "  'e54b506a-6000-4929-ad42-d8ec7962c982': Document(page_content=\"title: Step 15: Detachment and it's powers\\ntags: path\", metadata={'source': 'meditation_descriptions_scrapped.csv', 'row': 70, 'index': '72', 'data_url': 'https://media.sydevelopers.com/meditations/4df014dd06.json'}),\n",
       "  '0464ea0f-c4c3-4ea1-8396-0656d868e2b9': Document(page_content='title: Step 6: Footsoak\\ntags: path', metadata={'source': 'meditation_descriptions_scrapped.csv', 'row': 71, 'index': '73', 'data_url': 'https://media.sydevelopers.com/meditations/39bca5c6bd.json'}),\n",
       "  '82ec199a-4404-499d-8f74-769e0f792be5': Document(page_content='title: Step 16 - Everyday Miracles\\ntags: path', metadata={'source': 'meditation_descriptions_scrapped.csv', 'row': 72, 'index': '74', 'data_url': 'https://media.sydevelopers.com/meditations/5761c7eab6.json'})}}"
      ]
     },
     "execution_count": 48,
     "metadata": {},
     "output_type": "execute_result"
    }
   ],
   "source": [
    "db.docstore.__dict__"
   ]
  },
  {
   "cell_type": "markdown",
   "metadata": {},
   "source": [
    "# Search"
   ]
  },
  {
   "cell_type": "code",
   "execution_count": 72,
   "id": "8556ccbd",
   "metadata": {},
   "outputs": [
    {
     "data": {
      "text/html": [
       "<div>\n",
       "<style scoped>\n",
       "    .dataframe tbody tr th:only-of-type {\n",
       "        vertical-align: middle;\n",
       "    }\n",
       "\n",
       "    .dataframe tbody tr th {\n",
       "        vertical-align: top;\n",
       "    }\n",
       "\n",
       "    .dataframe thead th {\n",
       "        text-align: right;\n",
       "    }\n",
       "</style>\n",
       "<table border=\"1\" class=\"dataframe\">\n",
       "  <thead>\n",
       "    <tr style=\"text-align: right;\">\n",
       "      <th></th>\n",
       "      <th>text</th>\n",
       "      <th>labels</th>\n",
       "    </tr>\n",
       "  </thead>\n",
       "  <tbody>\n",
       "    <tr>\n",
       "      <th>0</th>\n",
       "      <td>I feel overwhelmed with work deadlines and res...</td>\n",
       "      <td>38</td>\n",
       "    </tr>\n",
       "    <tr>\n",
       "      <th>1</th>\n",
       "      <td>The constant pressure is making me physically ...</td>\n",
       "      <td>59</td>\n",
       "    </tr>\n",
       "    <tr>\n",
       "      <th>2</th>\n",
       "      <td>My heart races and I can't relax due to the co...</td>\n",
       "      <td>9</td>\n",
       "    </tr>\n",
       "    <tr>\n",
       "      <th>3</th>\n",
       "      <td>I find it hard to cope with the demands of fam...</td>\n",
       "      <td>38</td>\n",
       "    </tr>\n",
       "    <tr>\n",
       "      <th>4</th>\n",
       "      <td>I'm constantly on edge and feel like I'm carry...</td>\n",
       "      <td>35</td>\n",
       "    </tr>\n",
       "    <tr>\n",
       "      <th>...</th>\n",
       "      <td>...</td>\n",
       "      <td>...</td>\n",
       "    </tr>\n",
       "    <tr>\n",
       "      <th>893</th>\n",
       "      <td>I'm feeling hopeful and optimistic despite per...</td>\n",
       "      <td>51</td>\n",
       "    </tr>\n",
       "    <tr>\n",
       "      <th>894</th>\n",
       "      <td>I'm feeling sad and heartbroken after a fallin...</td>\n",
       "      <td>68</td>\n",
       "    </tr>\n",
       "    <tr>\n",
       "      <th>895</th>\n",
       "      <td>I'm feeling anxious and nervous about a major ...</td>\n",
       "      <td>15</td>\n",
       "    </tr>\n",
       "    <tr>\n",
       "      <th>896</th>\n",
       "      <td>I'm feeling overwhelmed and stressed with the ...</td>\n",
       "      <td>32</td>\n",
       "    </tr>\n",
       "    <tr>\n",
       "      <th>897</th>\n",
       "      <td>I'm feeling lonely and disconnected in my rela...</td>\n",
       "      <td>16</td>\n",
       "    </tr>\n",
       "  </tbody>\n",
       "</table>\n",
       "<p>898 rows × 2 columns</p>\n",
       "</div>"
      ],
      "text/plain": [
       "                                                  text  labels\n",
       "0    I feel overwhelmed with work deadlines and res...      38\n",
       "1    The constant pressure is making me physically ...      59\n",
       "2    My heart races and I can't relax due to the co...       9\n",
       "3    I find it hard to cope with the demands of fam...      38\n",
       "4    I'm constantly on edge and feel like I'm carry...      35\n",
       "..                                                 ...     ...\n",
       "893  I'm feeling hopeful and optimistic despite per...      51\n",
       "894  I'm feeling sad and heartbroken after a fallin...      68\n",
       "895  I'm feeling anxious and nervous about a major ...      15\n",
       "896  I'm feeling overwhelmed and stressed with the ...      32\n",
       "897  I'm feeling lonely and disconnected in my rela...      16\n",
       "\n",
       "[898 rows x 2 columns]"
      ]
     },
     "execution_count": 72,
     "metadata": {},
     "output_type": "execute_result"
    }
   ],
   "source": [
    "from langchain.embeddings.openai import OpenAIEmbeddings\n",
    "\n",
    "from langchain.vectorstores import FAISS\n",
    "import numpy as np\n",
    "import os\n",
    "\n",
    "embeddings = OpenAIEmbeddings()\n",
    "\n",
    "# db = FAISS.from_documents(data, embeddings)\n",
    "inputs_faiss = FAISS.load_local(\"../synthetic_user_inputs/user_inputs_query\", embeddings)\n",
    "meditation_descriptions_faiss = FAISS.load_local(\"meditations_index\", embeddings)\n",
    "\n",
    "\n",
    "synthetic_inputs_vectors = np.load(\"../synthetic_user_inputs/user_inputs_query/vector_array.npy\")\n",
    "synthetic_inputs = pd.read_csv(\"../synthetic_user_inputs/sentences.csv\", index_col=0, sep=';', usecols=[0,1,2]).sort_index()\n",
    "synthetic_inputs\n"
   ]
  },
  {
   "cell_type": "code",
   "execution_count": 82,
   "metadata": {},
   "outputs": [
    {
     "data": {
      "text/plain": [
       "array([[-0.0253571 , -0.01261792,  0.00724874, ..., -0.00579023,\n",
       "         0.0084883 , -0.03990847],\n",
       "       [-0.0291561 ,  0.00514022,  0.02287549, ...,  0.01526838,\n",
       "         0.00507592, -0.0414466 ],\n",
       "       [-0.02873463,  0.00975208,  0.02593511, ..., -0.00247433,\n",
       "         0.01418244, -0.05334921],\n",
       "       ...,\n",
       "       [-0.01810246,  0.00274614,  0.0285786 , ..., -0.00852274,\n",
       "         0.00864315, -0.04821969],\n",
       "       [-0.01861484,  0.00158963,  0.01131147, ...,  0.00438135,\n",
       "         0.00761944, -0.04188339],\n",
       "       [-0.02991821,  0.00814146,  0.0321687 , ..., -0.0054475 ,\n",
       "         0.01399272, -0.03894663]])"
      ]
     },
     "execution_count": 82,
     "metadata": {},
     "output_type": "execute_result"
    }
   ],
   "source": [
    "synthetic_inputs_vectors"
   ]
  },
  {
   "cell_type": "markdown",
   "metadata": {},
   "source": [
    "# Validating Search Engine"
   ]
  },
  {
   "cell_type": "code",
   "execution_count": 75,
   "metadata": {},
   "outputs": [],
   "source": [
    "search_result = meditation_descriptions_faiss.similarity_search_with_score_by_vector(synthetic_inputs_vectors[0])[0]\n",
    "def parse_search_result(search_result):\n",
    "    doc, score = search_result\n",
    "    row = doc.metadata['row']\n",
    "    return row, score\n",
    "\n"
   ]
  },
  {
   "cell_type": "code",
   "execution_count": 76,
   "metadata": {},
   "outputs": [
    {
     "name": "stdout",
     "output_type": "stream",
     "text": [
      "0.24392407\n",
      "0.26245552\n",
      "0.30824563\n",
      "0.32633317\n"
     ]
    }
   ],
   "source": [
    "query_result = meditation_descriptions_faiss.similarity_search_with_score_by_vector(synthetic_inputs_vectors[0])\n",
    "for search_result in query_result:\n",
    "    row, score = parse_search_result(search_result)\n",
    "    print(score)"
   ]
  },
  {
   "cell_type": "code",
   "execution_count": 86,
   "metadata": {},
   "outputs": [],
   "source": [
    "def return_k_meditations_and_scores(user_input, k=3):\n",
    "    idx = user_input.name\n",
    "    user_input_vector = synthetic_inputs_vectors[idx]\n",
    "    query_results = meditation_descriptions_faiss.similarity_search_with_score_by_vector(user_input_vector)\n",
    "    to_return = pd.Series(index=sum([[f'row_{i}', f'score_{i}']  for i in range(1, k+1)], []))\n",
    "    for i, result in enumerate(query_results):\n",
    "        row, score = parse_search_result(result)\n",
    "        to_return[f'row_{i+1}'] = row\n",
    "        to_return[f'score_{i+1}'] = score\n",
    "    return to_return"
   ]
  },
  {
   "cell_type": "code",
   "execution_count": 91,
   "metadata": {},
   "outputs": [],
   "source": [
    "similarity_results = synthetic_inputs.apply(return_k_meditations_and_scores, axis=1)\n",
    "similarity_results = pd.concat([synthetic_inputs, similarity_results], axis=1)"
   ]
  },
  {
   "cell_type": "code",
   "execution_count": 124,
   "metadata": {},
   "outputs": [
    {
     "name": "stdout",
     "output_type": "stream",
     "text": [
      "Number of different meditations per cluster per input:\n",
      "nunique     2.000000\n",
      "size       11.787234\n",
      "dtype: float64\n"
     ]
    }
   ],
   "source": [
    "# Are similar feelings getting similar meditations?\n",
    "\n",
    "results_nunique_and_size_per_cluster = similarity_results.groupby('labels')['row_1'].agg(['nunique', 'size'])\n",
    "size_per_nunique_ratio = results_nunique_and_size_per_cluster['size']/results_nunique_and_size_per_cluster['nunique']\n",
    "size_per_nunique_ratio_mean = size_per_nunique_ratio[results_nunique_and_size_per_cluster['size'] > 7].mean()\n",
    "\n",
    "\n",
    "print(f'Number of different meditations per cluster per input:')\n",
    "print(results_nunique_and_size_per_cluster[results_nunique_and_size_per_cluster['size'] > 7].mean())"
   ]
  },
  {
   "cell_type": "code",
   "execution_count": 137,
   "metadata": {},
   "outputs": [
    {
     "data": {
      "text/plain": [
       "<Axes: xlabel='row_1'>"
      ]
     },
     "execution_count": 137,
     "metadata": {},
     "output_type": "execute_result"
    },
    {
     "data": {
      "image/png": "[encoded data removed]",
      "text/plain": [
       "<Figure size 640x480 with 1 Axes>"
      ]
     },
     "metadata": {},
     "output_type": "display_data"
    }
   ],
   "source": [
    "import seaborn as sns\n",
    "sns.set()\n",
    "# Are different feelings getting different meditations?\n",
    "\n",
    "size_nunique_per_meditation = similarity_results.groupby('row_1')['labels'].agg(['nunique'])\n",
    "size_nunique_per_meditation.plot(kind='bar', width=1)"
   ]
  },
  {
   "cell_type": "code",
   "execution_count": 141,
   "metadata": {},
   "outputs": [],
   "source": [
    "# TODO: Create a appears-in-too-many-clusters disparity score. Consider the median point of each cluster each meditation appear. Use the cossine similarity between the different clusters to compute a single number.\n",
    "# Reasoning: If it appears in similar clusters, it is ok. If it appears in two many different cluters, it is not ok."
   ]
  },
  {
   "cell_type": "markdown",
   "metadata": {},
   "source": [
    "# Scrapping meditations"
   ]
  },
  {
   "cell_type": "code",
   "execution_count": 22,
   "metadata": {},
   "outputs": [
    {
     "name": "stdout",
     "output_type": "stream",
     "text": [
      "['Morning meditation', 'general, happy, relaxed, content, morning, morning-general', 'https://media.sydevelopers.com/meditations/c798b19f1c', 'https://media.sydevelopers.com/meditations/c798b19f1c.json']\n"
     ]
    }
   ],
   "source": [
    "import pandas as pd\n",
    "from autoscraper import AutoScraper\n",
    "\n",
    "model_url = 'https://media.sydevelopers.com/meditations/70/edit'\n",
    "\n",
    "# We can add one or multiple candidates here.\n",
    "# You can also put urls here to retrieve urls.\n",
    "wanted_list = ['Morning meditation', 'general, happy, relaxed, content, morning, morning-general', \"https://media.sydevelopers.com/meditations/c798b19f1c.json\"]\n",
    "scraper = AutoScraper()\n",
    "result = scraper.build(model_url, wanted_list)\n",
    "print(result)\n",
    "\n",
    "# Retrieving exact information\n",
    "meditations_data = pd.DataFrame(columns=['title', 'tags', 'data_url'])\n",
    "for i in range(250):\n",
    "    url = f'https://media.sydevelopers.com/meditations/{i}/edit'\n",
    "    result = scraper.get_result_exact(url)\n",
    "    if len(result) == 3:\n",
    "        meditations_data.loc[i] = result\n",
    "    else:\n",
    "        print(f'{url}\\n{result}')\n",
    "\n",
    "# Saving the loot\n",
    "meditations_data.reset_index().to_csv('meditation_descriptions_scrapped.csv', index=False)"
   ]
  },
  {
   "cell_type": "markdown",
   "metadata": {},
   "source": [
    "# !"
   ]
  },
  {
   "cell_type": "markdown",
   "metadata": {},
   "source": []
  }
 ],
 "metadata": {
  "kernelspec": {
   "display_name": "Python 3 (ipykernel)",
   "language": "python",
   "name": "python3"
  },
  "language_info": {
   "codemirror_mode": {
    "name": "ipython",
    "version": 3
   },
   "file_extension": ".py",
   "mimetype": "text/x-python",
   "name": "python",
   "nbconvert_exporter": "python",
   "pygments_lexer": "ipython3",
   "version": "3.10.12"
  }
 },
 "nbformat": 4,
 "nbformat_minor": 5
}
