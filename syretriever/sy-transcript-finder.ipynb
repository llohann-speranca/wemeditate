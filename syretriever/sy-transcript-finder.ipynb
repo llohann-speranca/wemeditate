{
 "cells": [
  {
   "cell_type": "markdown",
   "id": "43d8c15d",
   "metadata": {
    "jp-MarkdownHeadingCollapsed": true
   },
   "source": [
    "# From Parsed to Embedding"
   ]
  },
  {
   "cell_type": "code",
   "execution_count": 37,
   "id": "11f2ac64-b687-456d-82be-1c84fa0bbd42",
   "metadata": {},
   "outputs": [],
   "source": [
    "import pandas as pd\n",
    "from leomodules.parsing import parsers\n",
    "# pdf = parsers.parse_mupdf(\"Transcripts_English.pdf\", pages=range(1,100), sentecizer=parsers.spacy_sentecizer)\n",
    "pdf = pd.read_csv('parsed_transcripts.csv', index_col=0)\n",
    "\n",
    "pdf = pdf.query('page>40')\n",
    "\n",
    "texts = sum([' ' + pdf.text.shift(-i) for i in range(1,4)], pdf.text).astype(str)\n",
    "\n",
    "text_sample = texts.sample(10_000)"
   ]
  },
  {
   "cell_type": "code",
   "execution_count": null,
   "id": "8556ccbd",
   "metadata": {},
   "outputs": [],
   "source": [
    "from langchain.chains import RetrievalQA\n",
    "from langchain.document_loaders import TextLoader\n",
    "from langchain.embeddings.openai import OpenAIEmbeddings\n",
    "from langchain.llms import OpenAI\n",
    "\n",
    "from langchain.vectorstores import FAISS\n",
    "\n",
    "\n",
    "\n",
    "# from leomodules.mysecrets import OPENAI_API_KEY\n",
    "# os.environ['OPENAI_API_KEY'] = OPENAI_API_KEY\n",
    "# from leomodules.embedding import create_vectorstore\n",
    "\n",
    "create_vectorstore(text_sample.to_list())"
   ]
  },
  {
   "cell_type": "markdown",
   "id": "aecf38d6",
   "metadata": {},
   "source": [
    "# Not Parsing"
   ]
  },
  {
   "cell_type": "code",
   "execution_count": 9,
   "id": "2dbd3c5b",
   "metadata": {},
   "outputs": [],
   "source": [
    "from langchain.chains import RetrievalQA\n",
    "from langchain.document_loaders import TextLoader\n",
    "from langchain.embeddings.openai import OpenAIEmbeddings\n",
    "from langchain.llms import OpenAI\n",
    "import os\n",
    "from langchain.vectorstores import FAISS\n",
    "\n",
    "from leomodules.mysecrets import OPENAI_API_KEY\n",
    "\n",
    "os.environ['OPENAI_API_KEY'] = OPENAI_API_KEY\n",
    "\n",
    "embeddings = OpenAIEmbeddings()"
   ]
  },
  {
   "cell_type": "code",
   "execution_count": 3,
   "id": "74c0225d-c99f-448c-af03-0605eba95b45",
   "metadata": {},
   "outputs": [],
   "source": [
    "from langchain.vectorstores import FAISS\n",
    "index = FAISS.load_local(\"indexes\", embeddings)"
   ]
  },
  {
   "cell_type": "code",
   "execution_count": 11,
   "id": "bba84d51-fd28-40a2-9bb6-b035c56e55f9",
   "metadata": {},
   "outputs": [],
   "source": [
    "# TODO extract the transcript from the website, since it is in paragraphs (see how to extract links from pdfs)\n",
    "# TODO remove the titles"
   ]
  },
  {
   "cell_type": "code",
   "execution_count": 5,
   "id": "dc035087-a6a1-42f4-9364-c8a81def7a26",
   "metadata": {},
   "outputs": [],
   "source": [
    "qa = RetrievalQA.from_chain_type(llm=OpenAI(), chain_type=\"stuff\", retriever=index.as_retriever(), return_source_documents=True)"
   ]
  },
  {
   "cell_type": "code",
   "execution_count": 6,
   "id": "3c583524-9285-4010-a810-30e471c91845",
   "metadata": {},
   "outputs": [
    {
     "name": "stdout",
     "output_type": "stream",
     "text": [
      "query\n",
      "-----\n",
      "I feel very stressed.\n",
      "\n",
      "\n",
      "result\n",
      "------\n",
      " It can be difficult to feel stressed by the behavior of others. It sounds like you have been through a lot and have taken steps to let the other people know how you are feeling. If you need help managing your stress, it might be a good idea to talk to someone like a counselor or therapist.\n",
      "\n",
      "\n",
      "source_documents\n",
      "----------------\n",
      "\"I really feel very hurt. But I must tell you the headaches [that] London Sahaja Yogis and English Sahaja Yogis have given me, as nobody has given me such headaches. I have worked hardest in this place.\"\n",
      "\"I don’t like that kind of things. No mother would like, I don’t feel peaceful with you, I fell very nervous. Alright? So you understand My concern about you and I mean it, I really mean it.\"\n",
      "\"What should I do?\" I feel so helpless in America. But those who are Sahaja Yogis here, are great Sahaja Yogis, I must say. They are wonderful.\"\n",
      "\"I don't know my fate is bad I got such horrible people. If you are thinking of ... and Marathi and all this nonsense here better get out. I've nothing to do with you\". I was really angry.\"\n",
      "\n",
      "\n"
     ]
    }
   ],
   "source": [
    "query = 'I feel very stressed.'\n",
    "result = qa({'query':query})\n",
    "for k, v in result.items():\n",
    "    print(k, '-'*len(k), sep='\\n')\n",
    "    if not isinstance(v, list):\n",
    "        print(v)\n",
    "        print('\\n')\n",
    "    else:\n",
    "        for doc in v:\n",
    "            print(f'\"{doc.page_content}\"')\n",
    "        print('\\n')\n",
    "    "
   ]
  },
  {
   "cell_type": "code",
   "execution_count": 7,
   "id": "100dc1d6-9dd9-4f44-b34b-82c0c4e8a966",
   "metadata": {},
   "outputs": [
    {
     "data": {
      "text/plain": [
       "[(Document(page_content='What’s the use of feeling bad? Isn’t it? You must solve the problem. Not to feel sorry, but to do it.', metadata={}),\n",
       "  0.7501563690865432),\n",
       " (Document(page_content='On the contrary they wanted to improve it and work it out. But there’s a very simple way of doing it. You don’t have to go out of the way to change people or to make any sacrifices, nothing of the kind. Everybody today is suffering from some sort of anxiety, some sort of problems, some sort of worries.', metadata={}),\n",
       "  0.7393457235169232),\n",
       " (Document(page_content='First thing you will feel is peace. It is as if you are standing in water and you say hope we do not drown in these thoughts. You say you have a lot of questions. But fortunately if a boat arrives you will climb into it and that fear of drowning is gone from you.', metadata={}),\n",
       "  0.737609821267305),\n",
       " (Document(page_content='He feels that brother has come and, \"What should be done to make him feel good? What to give? How to give rest? What to do?\"', metadata={}),\n",
       "  0.7316132941017205)]"
      ]
     },
     "execution_count": 7,
     "metadata": {},
     "output_type": "execute_result"
    }
   ],
   "source": [
    "index.similarity_search_with_relevance_scores('Find a solution for: \"I feel stressed.\"')"
   ]
  },
  {
   "cell_type": "code",
   "execution_count": 60,
   "id": "a5a97fec-8b50-4b78-99fc-a07af2d21339",
   "metadata": {},
   "outputs": [
    {
     "data": {
      "text/plain": [
       "[(Document(page_content='And unless and until you have connected with God, whatever you may try, whatever you may acquire, you can never have that joy. You may have that artificial confidence, because a person who is frustrated has to say - show outside that - \"Oh no, I\\'m not frustrated. I am very happy.\" It\\'s like to be tense and say, \"I\\'m very relaxed\" - it\\'s like that.', metadata={}),\n",
       "  0.719120019899),\n",
       " (Document(page_content='You have to fight your negativity, because negativity is the thing that asks questions. When I am talking I am telling the truth, absolute truth, but it asks questions and it reflects. When it starts reflecting, nothing goes in the head because you are left with the past sentence, and the present you are not with it. So the whole thing boils down to something like an escape, and then you escape and you sleep off.', metadata={}),\n",
       "  0.7095963494220843),\n",
       " (Document(page_content='Put both your feet apart from each other. Be comfortable. Now start feeling a kind of a cool breeze in the hand. Interviewer: He is saying it is from outside.', metadata={}),\n",
       "  0.7068208108602478),\n",
       " (Document(page_content='First thing you will feel is peace. It is as if you are standing in water and you say hope we do not drown in these thoughts. You say you have a lot of questions. But fortunately if a boat arrives you will climb into it and that fear of drowning is gone from you.', metadata={}),\n",
       "  0.7030633982420775)]"
      ]
     },
     "execution_count": 60,
     "metadata": {},
     "output_type": "execute_result"
    }
   ],
   "source": [
    "index.similarity_search_with_relevance_scores('Find the opposite of: \"I feel stressed.\"')"
   ]
  },
  {
   "cell_type": "markdown",
   "id": "009ecf0c-001e-45e9-bf4e-2b466dd6b3d8",
   "metadata": {},
   "source": [
    "## LLM-assisted retriever"
   ]
  },
  {
   "cell_type": "code",
   "execution_count": 10,
   "id": "27910de4-b7b4-44b3-9f60-5875f510fe6b",
   "metadata": {},
   "outputs": [
    {
     "name": "stderr",
     "output_type": "stream",
     "text": [
      "INFO:langchain.retrievers.multi_query:Generated queries: ['1. How can I reduce stress levels?', '2. What are some effective ways to manage stress?', '3. Are there any techniques or strategies to alleviate stress?']\n"
     ]
    },
    {
     "data": {
      "text/plain": [
       "8"
      ]
     },
     "execution_count": 10,
     "metadata": {},
     "output_type": "execute_result"
    }
   ],
   "source": [
    "from langchain.retrievers.multi_query import MultiQueryRetriever\n",
    "import logging\n",
    "from langchain.chat_models import ChatOpenAI\n",
    "\n",
    "question = \"\"\"\n",
    "\"I feel stressed.\"\n",
    "\"\"\"\n",
    "\n",
    "logging.basicConfig()\n",
    "logging.getLogger(\"langchain.retrievers.multi_query\").setLevel(logging.INFO)\n",
    "\n",
    "llm = ChatOpenAI(temperature=0)\n",
    "retriever_from_llm = MultiQueryRetriever.from_llm(\n",
    "    retriever=index.as_retriever(), llm=llm)\n",
    "\n",
    "unique_docs = retriever_from_llm.get_relevant_documents(query=question)\n",
    "len(unique_docs)"
   ]
  },
  {
   "cell_type": "code",
   "execution_count": 11,
   "id": "85abcf29-6b5a-44e0-918e-e7f653771673",
   "metadata": {},
   "outputs": [],
   "source": [
    "qa = RetrievalQA.from_chain_type(llm=OpenAI(), chain_type=\"stuff\", retriever=retriever_from_llm, return_source_documents=True)"
   ]
  },
  {
   "cell_type": "code",
   "execution_count": 12,
   "id": "c11e1cf3-c6ba-4ec9-8e17-aa7d6d4a6c48",
   "metadata": {},
   "outputs": [
    {
     "name": "stderr",
     "output_type": "stream",
     "text": [
      "INFO:langchain.retrievers.multi_query:Generated queries: ['1. How can I reduce stress levels effectively?', '2. What are some strategies to manage and alleviate stress?', '3. Are there any proven techniques to help cope with stress?']\n"
     ]
    },
    {
     "name": "stdout",
     "output_type": "stream",
     "text": [
      "query\n",
      "-----\n",
      "I feel very stressed.\n",
      "\n",
      "\n",
      "result\n",
      "------\n",
      " Practicing Sahaja Yoga can help you reduce stress. Relax in a peaceful atmosphere, take time to rest, read calming books, and focus on your spiritual growth. Trust yourself and have faith in yourself. Observe your own ego and address yourself as if you are looking in a mirror. Enjoy the beauty of nature, and allow yourself to be receptive and not complaining. Finally, take salt treatment to reduce stress.\n",
      "\n",
      "\n",
      "source_documents\n",
      "----------------\n",
      "\"And to be tense is out of, out of absolutely we can say, is out of subject, is useless. How can you be tense in the atmosphere which is so relaxed? If these things are expressing themselves, then you should know you haven’t come to your proper point in Sahaja Yoga. If you still worry and go on worrying, you’ll go to the left and you’ll get out of Sahaja Yoga.\"\n",
      "\"At the time when the mother is pregnant, she should not work very hard. She should take rest more. She should not think too much but read something soothing things, something nice. Best is to meditate.\"\n",
      "\"Do not divert your attention to other things. First of all you settle down with it seriously and find out what are these vibrations – how are they helping me, how are they helping others, what changes are coming within you? We should go that way. But in case you find it absolute transformation within you, you find its absolute joy and happiness within you, then you don’t have to think about these things.\"\n",
      "\"Trust yourself, you must have faith in yourself, it's very important. Then also they feel it on their fingertips, some feel it on their hands. How to use this power that you have to learn. But also you will feel extremely peaceful and you may achieve thoughtless awareness state tonight.\"\n",
      "\"One of these is to watch your own ego and think of yourself that, \"Yes Sir, what is the plan and where do you propose to go?\" This is how you may address yourself as if you are observing your own image in a mirror. If you do this, the strain on the eyes due to ego will be minimised. The other area which is very important is that part of the back of the head that is exactly behind the forehead.\"\n",
      "\"On the contrary they wanted to improve it and work it out. But there’s a very simple way of doing it. You don’t have to go out of the way to change people or to make any sacrifices, nothing of the kind. Everybody today is suffering from some sort of anxiety, some sort of problems, some sort of worries.\"\n",
      "\"Spartan way and sometimes could be inconvenient to you. But I hope, you will go through all that, with joy and happiness, and will understand that that's the maximum one can do in a far-fetched places of this kind. The nature is surrounding you and nature is so beautiful and it sings the praise of God in every way - the leaves, the flowers, the trees, the ripples of the rivers - and the great mountains, like great Sahaja Yogis, are meditating and emitting vibrations all over. So one has to be more receptive than to be more complaining, should be more enjoying than feeling sad, should be one with Myself than with yourself in the sense that the Self that is within you is weak.\"\n",
      "\"This is true as [UNCLEAR] has said that, \"Once you get your Self realization, most of your problems just disappear.\" Now how it happens, how these problems disappear? Supposing, you are standing in the deep water and you see waves coming and going and you are afraid of these waves.\"\n",
      "\"And that you should follow. Man of practice. I want to ask you one question. Do you take salt treatment?\"\n",
      "\"How do we stem the tide of diseases, corruption, immorality and immaturity? How do we end the present state of conflict and confusion? How do we bring about peace within every mind and heart? I very humbly submit that there is an answer to these questions.\"\n",
      "\n",
      "\n"
     ]
    }
   ],
   "source": [
    "query = 'I feel very stressed.'\n",
    "result = qa({'query':query})\n",
    "for k, v in result.items():\n",
    "    print(k, '-'*len(k), sep='\\n')\n",
    "    if not isinstance(v, list):\n",
    "        print(v)\n",
    "        print('\\n')\n",
    "    else:\n",
    "        for doc in v:\n",
    "            print(f'\"{doc.page_content}\"')\n",
    "        print('\\n')\n",
    "    "
   ]
  },
  {
   "cell_type": "code",
   "execution_count": 13,
   "id": "de34d0fd-e96e-415e-bd62-d8b61379a468",
   "metadata": {},
   "outputs": [
    {
     "name": "stderr",
     "output_type": "stream",
     "text": [
      "INFO:langchain.retrievers.multi_query:Generated queries: [\"1. How can I deal with my wife's rude behavior towards me?\", \"2. What strategies can I use to address my wife's disrespectful attitude towards me?\", '3. How can I improve the communication and relationship with my wife, considering her rude behavior towards me?']\n"
     ]
    },
    {
     "name": "stdout",
     "output_type": "stream",
     "text": [
      "query\n",
      "-----\n",
      "My wife is very rude with me.\n",
      "\n",
      "\n",
      "result\n",
      "------\n",
      " You should try to be understanding and patient with your wife. Try to be diplomatic and humorous or use small gestures to show her that you care. Teach your children to respect their mother and avoid scolding her in front of them. Try to focus on the sweet things in your relationship and avoid getting too hung up on minor issues.\n",
      "\n",
      "\n",
      "source_documents\n",
      "----------------\n",
      "\"We should have all decency of husband and wife, there are so many things we do not do in the presence of our children. In the same way we need not sit down and quarrel and say: 'I hate you and I hate you'. I tell you this is something you have to change little bit in our language. In India if somebody says: 'I hate you' it's regarded, that man regarded as a most unmannerly person.\"\n",
      "\"do this ….do that…wear this, behave like this……etc and shows her finger with order to him……then he becomes silent and obeys. Husband has all the right to correct his wife, but with love, he should have patience and correct her dominating nature or wrong habits. Husband has to be very diplomatic and patient. The women who have feminine quality should be very humorous.\"\n",
      "\"So, it is a trick one has to learn. Of course, you have every right to correct him if he has done something which is not social or which is unsocial, which is not good you can tell him. But first he must know that you are so important. And even an uneducated women in India is sensible unclear() because we have brought up unclear() how to be a good wife, how to manage the husbands, unclear() don’t look at the women they don’t go round with anyone.\"\n",
      "\"I talked to her five sentences as I said and she said “this lady is very honorable, from a royal family, must be” I am, but I mean, I am, but I mean I never told her, which is not known to many people, but she said “She must be from a royal family”. What is the need to insult others, what is the need to shout at others and talk in that manner? There is no need, you must talk in a way that is sweet and nice, it looks nice, it shows better. Your personality is better seen by others, at least for the sake of congenial concord with others please try to get over your nonsensical ego.\"\n",
      "\"But do they respect you as a woman?” I said, “Why not?” [ This] woman is to be more respected. I don’t know why it happens like this.\"\n",
      "\"Father should never scold the mother in the presence of the child. That's one thing one must understand, that, if the father starts scolding the mother in the presence of the child, the child will have no respect for the mother. But the respect must be maintained, because if the wife respects the husband, then the child will know how to respect her and the husband too. So the whole thing is built up like that.\"\n",
      "\"Said, \"How?\" I said, \"You should teach them sometimes and take his side and do all these tricks and you'll see how he'll manage.\" That's a very good relationship but this training you do not have in the Western life While we have quite a lot because we live in a joint family, so we know what is our relationship and how to do and how to enjoy each other and how to make fun of these small, small things so we are always laughing and enjoying ourselves, our relationships instead of just finding faults, \"She came very late, she banged the door so loudly, she should have known to sleep on here, why didn't she do that,\" - all these [UNCLEAR] This is how we all can live together if you see to the sweet things but if you go too much [UNCLEAR] meticulous things and to all these nonsensical problems that you have, it is going to be a headache What you need, these small, small things sponsor relationships. Now the Mother of the Universe is the one that is [UNCLEAR - NAMED?]\"\n",
      "\n",
      "\n"
     ]
    }
   ],
   "source": [
    "query = 'My wife is very rude with me.'\n",
    "result = qa({'query':query})\n",
    "for k, v in result.items():\n",
    "    print(k, '-'*len(k), sep='\\n')\n",
    "    if not isinstance(v, list):\n",
    "        print(v)\n",
    "        print('\\n')\n",
    "    else:\n",
    "        for doc in v:\n",
    "            print(f'\"{doc.page_content}\"')\n",
    "        print('\\n')\n",
    "    "
   ]
  },
  {
   "cell_type": "code",
   "execution_count": 70,
   "id": "811b6bad-24f4-4e3e-8fd0-ec539df591be",
   "metadata": {},
   "outputs": [
    {
     "name": "stderr",
     "output_type": "stream",
     "text": [
      "INFO:langchain.retrievers.multi_query:Generated queries: ['1. How can I overcome feelings of sadness and depression?', '2. What are some strategies to cope with sadness and depression?', '3. Are there any effective methods to alleviate sadness and depression?']\n"
     ]
    },
    {
     "name": "stdout",
     "output_type": "stream",
     "text": [
      "query\n",
      "-----\n",
      "I feel sad and depressed.\n",
      "\n",
      "\n",
      "result\n",
      "------\n",
      " It's okay to feel sad and depressed sometimes. It is important to recognize and accept these feelings and to take care of yourself. It is important to build a strong sense of self-love and self-worth. To do this, practice self-care activities and nurture your relationships with yourself and others. Additionally, try to focus on positive things and practice gratitude.\n",
      "\n",
      "\n",
      "source_documents\n",
      "----------------\n",
      "\"The main point is to have faith in yourself. In this short time, I cannot tell you more than this but what I have to tell you that above all you jump into the ocean of joy. Happiness and unhappiness are the two sides of one coin. When your ego is pampered you feel happy.\"\n",
      "\"This is the first step of introspection. Now what helps for this introspection is your sense of love. Can you love a person who is distressful? One who is aggressive?\"\n",
      "\"What’s the use of feeling bad? Isn’t it? You must solve the problem. Not to feel sorry, but to do it.\"\n",
      "\"How can you be satisfied? Watch your mind, what it teaches you. Why does it make you cry? Just think of it.\"\n",
      "\"Spartan way and sometimes could be inconvenient to you. But I hope, you will go through all that, with joy and happiness, and will understand that that's the maximum one can do in a far-fetched places of this kind. The nature is surrounding you and nature is so beautiful and it sings the praise of God in every way - the leaves, the flowers, the trees, the ripples of the rivers - and the great mountains, like great Sahaja Yogis, are meditating and emitting vibrations all over. So one has to be more receptive than to be more complaining, should be more enjoying than feeling sad, should be one with Myself than with yourself in the sense that the Self that is within you is weak.\"\n",
      "\"Yes. ( Yogi: His son has been very depressed.) Where do you live, in what part? ( Inaudible response from audience member.)\"\n",
      "\"On the contrary they wanted to improve it and work it out. But there’s a very simple way of doing it. You don’t have to go out of the way to change people or to make any sacrifices, nothing of the kind. Everybody today is suffering from some sort of anxiety, some sort of problems, some sort of worries.\"\n",
      "\n",
      "\n"
     ]
    }
   ],
   "source": [
    "query = 'I feel sad and depressed.'\n",
    "result = qa({'query':query})\n",
    "for k, v in result.items():\n",
    "    print(k, '-'*len(k), sep='\\n')\n",
    "    if not isinstance(v, list):\n",
    "        print(v)\n",
    "        print('\\n')\n",
    "    else:\n",
    "        for doc in v:\n",
    "            print(f'\"{doc.page_content}\"')\n",
    "        print('\\n')\n",
    "    "
   ]
  },
  {
   "cell_type": "code",
   "execution_count": null,
   "id": "5e36a631-00fb-4c6a-b942-ee1d094302a1",
   "metadata": {},
   "outputs": [],
   "source": [
    "# Seeker/yogi writes a query (what he is feeling)\n",
    "# query -> fed to chatGPT (which creates new queries to searched) -> vector(s) -> semantic search in a database -> seeker/yogi is fed with the best results\n",
    "\n",
    "# TODO: instead of chatGPT, we can make standard queries\n",
    "# TODO: change the database: instead of 4-sentences and all talks -> use paragraphs and only PP and \n",
    "# TODO: Graph-index\n",
    "# TODO: filter the talks to be used\n",
    "\n"
   ]
  }
 ],
 "metadata": {
  "kernelspec": {
   "display_name": "Python 3 (ipykernel)",
   "language": "python",
   "name": "python3"
  },
  "language_info": {
   "codemirror_mode": {
    "name": "ipython",
    "version": 3
   },
   "file_extension": ".py",
   "mimetype": "text/x-python",
   "name": "python",
   "nbconvert_exporter": "python",
   "pygments_lexer": "ipython3",
   "version": "3.11.4"
  }
 },
 "nbformat": 4,
 "nbformat_minor": 5
}
